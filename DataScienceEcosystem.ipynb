{
 "cells": [
  {
   "cell_type": "markdown",
   "id": "f9dbc769-34bd-46b3-903c-7af81c4465b6",
   "metadata": {},
   "source": [
    "# Data Science and Ecosystem\n"
   ]
  },
  {
   "cell_type": "markdown",
   "id": "510d2260",
   "metadata": {},
   "source": [
    "In this notebook, Data Science Tools and Ecosystem are summarized."
   ]
  },
  {
   "cell_type": "markdown",
   "id": "8bf427fb-6cd6-4bf3-9a78-796f639292f4",
   "metadata": {},
   "source": [
    "__Objectives:__\n",
    "- List of popular Data Science languages\n",
    "- List of Python libraries\n",
    "- List of Data Science tools\n",
    "- Examples for python operations (arithmetic, unit conversion)"
   ]
  },
  {
   "cell_type": "markdown",
   "id": "dcbf976b",
   "metadata": {},
   "source": [
    "Some of the popular languages that Data Scientists use are:\n",
    "1. Python\n",
    "2. R\n",
    "3. Julia\n",
    "4. Scala"
   ]
  },
  {
   "cell_type": "markdown",
   "id": "403d0ace",
   "metadata": {},
   "source": [
    "Some of the commonly used libraries used by Data Scientists include:\n",
    "1. Numpy (Python)\n",
    "2. Pandas (Python)\n",
    "3. Scikit-Learn (Python)\n",
    "4. SciPy (Python)"
   ]
  },
  {
   "cell_type": "markdown",
   "id": "ddef3187",
   "metadata": {},
   "source": [
    "| Data Science Tools |\n",
    "| -------- |\n",
    "| jupyter (Notebook, Lab)  |\n",
    "| Apache Zeppelin |\n",
    "| RStudio    |\n",
    "| Spyder    |"
   ]
  },
  {
   "cell_type": "markdown",
   "id": "90b22e59",
   "metadata": {},
   "source": [
    "### Below are a few examples of evaluating arithmetic expressions in Python\n",
    "- Addition: `5+3 == 8`\n",
    "- Substraction: `5-3 == 2`\n",
    "- Multiplication: `3*6 == 18`\n",
    "- Real Division: `8/2 == 4`\n",
    "\n"
   ]
  },
  {
   "cell_type": "code",
   "execution_count": 4,
   "id": "3b4766f8",
   "metadata": {},
   "outputs": [
    {
     "data": {
      "text/plain": [
       "17"
      ]
     },
     "execution_count": 4,
     "metadata": {},
     "output_type": "execute_result"
    }
   ],
   "source": [
    "# This a simple arithmetic expression to mutiply then add integers\n",
    "(3*4)+5"
   ]
  },
  {
   "cell_type": "code",
   "execution_count": 7,
   "id": "ee3ea708-ca85-44b6-b985-19e9375e8870",
   "metadata": {},
   "outputs": [
    {
     "name": "stdout",
     "output_type": "stream",
     "text": [
      "3.3333333333333335\n"
     ]
    }
   ],
   "source": [
    "minutes = 200\n",
    "# This will convert 200 minutes to hours by diving by 60\n",
    "hours = minutes / 60\n",
    "print(hours)"
   ]
  },
  {
   "cell_type": "markdown",
   "id": "c1cd2f41-4223-4db6-8010-ee93e1976379",
   "metadata": {},
   "source": [
    "## Author\n",
    "Samuel Mützel"
   ]
  },
  {
   "cell_type": "code",
   "execution_count": null,
   "id": "b74886d3-af3d-4af5-b64a-288f5621202b",
   "metadata": {},
   "outputs": [],
   "source": []
  }
 ],
 "metadata": {
  "kernelspec": {
   "display_name": "Python 3 (ipykernel)",
   "language": "python",
   "name": "python3"
  },
  "language_info": {
   "codemirror_mode": {
    "name": "ipython",
    "version": 3
   },
   "file_extension": ".py",
   "mimetype": "text/x-python",
   "name": "python",
   "nbconvert_exporter": "python",
   "pygments_lexer": "ipython3",
   "version": "3.9.6"
  }
 },
 "nbformat": 4,
 "nbformat_minor": 5
}
